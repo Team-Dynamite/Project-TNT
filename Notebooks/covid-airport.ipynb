{
 "cells": [
  {
   "cell_type": "code",
   "execution_count": 18,
   "id": "bf409703",
   "metadata": {},
   "outputs": [],
   "source": [
    "import pandas as pd\n",
    "import numpy as np\n",
    "import matplotlib.pyplot as plt\n",
    "from pylab import *\n",
    "import seaborn as sns\n",
    "%matplotlib inline\n",
    "import statsmodels.api as sm\n",
    "import statsmodels.stats.api as sms\n",
    "from scipy.stats import boxcox"
   ]
  },
  {
   "cell_type": "code",
   "execution_count": 19,
   "id": "2d8da39b",
   "metadata": {},
   "outputs": [],
   "source": [
    "#to import my data"
   ]
  },
  {
   "cell_type": "code",
   "execution_count": 20,
   "id": "ad41be04",
   "metadata": {},
   "outputs": [],
   "source": [
    "df = pd.read_excel(\"covid_impact_on_airport_traffic.xlsx\")"
   ]
  },
  {
   "cell_type": "code",
   "execution_count": 21,
   "id": "43277838",
   "metadata": {},
   "outputs": [
    {
     "data": {
      "text/html": [
       "<div>\n",
       "<style scoped>\n",
       "    .dataframe tbody tr th:only-of-type {\n",
       "        vertical-align: middle;\n",
       "    }\n",
       "\n",
       "    .dataframe tbody tr th {\n",
       "        vertical-align: top;\n",
       "    }\n",
       "\n",
       "    .dataframe thead th {\n",
       "        text-align: right;\n",
       "    }\n",
       "</style>\n",
       "<table border=\"1\" class=\"dataframe\">\n",
       "  <thead>\n",
       "    <tr style=\"text-align: right;\">\n",
       "      <th></th>\n",
       "      <th>Unnamed: 0</th>\n",
       "      <th>Unnamed: 0.1</th>\n",
       "      <th>Unnamed: 0.1.1</th>\n",
       "      <th>AggregationMethod</th>\n",
       "      <th>Date</th>\n",
       "      <th>Version</th>\n",
       "      <th>AirportName</th>\n",
       "      <th>PercentOfBaseline</th>\n",
       "      <th>Centroid</th>\n",
       "      <th>City</th>\n",
       "      <th>State</th>\n",
       "      <th>ISO_3166_2</th>\n",
       "      <th>Country</th>\n",
       "      <th>Geography</th>\n",
       "    </tr>\n",
       "  </thead>\n",
       "  <tbody>\n",
       "    <tr>\n",
       "      <th>0</th>\n",
       "      <td>0</td>\n",
       "      <td>0</td>\n",
       "      <td>0</td>\n",
       "      <td>Daily</td>\n",
       "      <td>2020-04-03</td>\n",
       "      <td>1</td>\n",
       "      <td>Kingsford Smith</td>\n",
       "      <td>64</td>\n",
       "      <td>POINT(151.180087713813 -33.9459774986125)</td>\n",
       "      <td>Sydney</td>\n",
       "      <td>New South Wales</td>\n",
       "      <td>AU</td>\n",
       "      <td>Australia</td>\n",
       "      <td>POLYGON((151.164354085922 -33.9301772341877, 1...</td>\n",
       "    </tr>\n",
       "    <tr>\n",
       "      <th>1</th>\n",
       "      <td>1</td>\n",
       "      <td>1</td>\n",
       "      <td>1</td>\n",
       "      <td>Daily</td>\n",
       "      <td>2020-04-13</td>\n",
       "      <td>1</td>\n",
       "      <td>Kingsford Smith</td>\n",
       "      <td>29</td>\n",
       "      <td>POINT(151.180087713813 -33.9459774986125)</td>\n",
       "      <td>Sydney</td>\n",
       "      <td>New South Wales</td>\n",
       "      <td>AU</td>\n",
       "      <td>Australia</td>\n",
       "      <td>POLYGON((151.164354085922 -33.9301772341877, 1...</td>\n",
       "    </tr>\n",
       "    <tr>\n",
       "      <th>2</th>\n",
       "      <td>2</td>\n",
       "      <td>2</td>\n",
       "      <td>2</td>\n",
       "      <td>Daily</td>\n",
       "      <td>2020-07-10</td>\n",
       "      <td>1</td>\n",
       "      <td>Kingsford Smith</td>\n",
       "      <td>54</td>\n",
       "      <td>POINT(151.180087713813 -33.9459774986125)</td>\n",
       "      <td>Sydney</td>\n",
       "      <td>New South Wales</td>\n",
       "      <td>AU</td>\n",
       "      <td>Australia</td>\n",
       "      <td>POLYGON((151.164354085922 -33.9301772341877, 1...</td>\n",
       "    </tr>\n",
       "    <tr>\n",
       "      <th>3</th>\n",
       "      <td>3</td>\n",
       "      <td>3</td>\n",
       "      <td>3</td>\n",
       "      <td>Daily</td>\n",
       "      <td>2020-09-02</td>\n",
       "      <td>1</td>\n",
       "      <td>Kingsford Smith</td>\n",
       "      <td>18</td>\n",
       "      <td>POINT(151.180087713813 -33.9459774986125)</td>\n",
       "      <td>Sydney</td>\n",
       "      <td>New South Wales</td>\n",
       "      <td>AU</td>\n",
       "      <td>Australia</td>\n",
       "      <td>POLYGON((151.164354085922 -33.9301772341877, 1...</td>\n",
       "    </tr>\n",
       "    <tr>\n",
       "      <th>4</th>\n",
       "      <td>4</td>\n",
       "      <td>4</td>\n",
       "      <td>4</td>\n",
       "      <td>Daily</td>\n",
       "      <td>2020-10-31</td>\n",
       "      <td>1</td>\n",
       "      <td>Kingsford Smith</td>\n",
       "      <td>22</td>\n",
       "      <td>POINT(151.180087713813 -33.9459774986125)</td>\n",
       "      <td>Sydney</td>\n",
       "      <td>New South Wales</td>\n",
       "      <td>AU</td>\n",
       "      <td>Australia</td>\n",
       "      <td>POLYGON((151.164354085922 -33.9301772341877, 1...</td>\n",
       "    </tr>\n",
       "  </tbody>\n",
       "</table>\n",
       "</div>"
      ],
      "text/plain": [
       "   Unnamed: 0  Unnamed: 0.1  Unnamed: 0.1.1 AggregationMethod       Date  \\\n",
       "0           0             0               0             Daily 2020-04-03   \n",
       "1           1             1               1             Daily 2020-04-13   \n",
       "2           2             2               2             Daily 2020-07-10   \n",
       "3           3             3               3             Daily 2020-09-02   \n",
       "4           4             4               4             Daily 2020-10-31   \n",
       "\n",
       "   Version      AirportName  PercentOfBaseline  \\\n",
       "0        1  Kingsford Smith                 64   \n",
       "1        1  Kingsford Smith                 29   \n",
       "2        1  Kingsford Smith                 54   \n",
       "3        1  Kingsford Smith                 18   \n",
       "4        1  Kingsford Smith                 22   \n",
       "\n",
       "                                    Centroid    City            State  \\\n",
       "0  POINT(151.180087713813 -33.9459774986125)  Sydney  New South Wales   \n",
       "1  POINT(151.180087713813 -33.9459774986125)  Sydney  New South Wales   \n",
       "2  POINT(151.180087713813 -33.9459774986125)  Sydney  New South Wales   \n",
       "3  POINT(151.180087713813 -33.9459774986125)  Sydney  New South Wales   \n",
       "4  POINT(151.180087713813 -33.9459774986125)  Sydney  New South Wales   \n",
       "\n",
       "  ISO_3166_2    Country                                          Geography  \n",
       "0         AU  Australia  POLYGON((151.164354085922 -33.9301772341877, 1...  \n",
       "1         AU  Australia  POLYGON((151.164354085922 -33.9301772341877, 1...  \n",
       "2         AU  Australia  POLYGON((151.164354085922 -33.9301772341877, 1...  \n",
       "3         AU  Australia  POLYGON((151.164354085922 -33.9301772341877, 1...  \n",
       "4         AU  Australia  POLYGON((151.164354085922 -33.9301772341877, 1...  "
      ]
     },
     "execution_count": 21,
     "metadata": {},
     "output_type": "execute_result"
    }
   ],
   "source": [
    "df.head()"
   ]
  },
  {
   "cell_type": "code",
   "execution_count": 22,
   "id": "d8097f1e",
   "metadata": {},
   "outputs": [
    {
     "data": {
      "text/plain": [
       "Index(['Unnamed: 0', 'Unnamed: 0.1', 'Unnamed: 0.1.1', 'AggregationMethod',\n",
       "       'Date', 'Version', 'AirportName', 'PercentOfBaseline', 'Centroid',\n",
       "       'City', 'State', 'ISO_3166_2', 'Country', 'Geography'],\n",
       "      dtype='object')"
      ]
     },
     "execution_count": 22,
     "metadata": {},
     "output_type": "execute_result"
    }
   ],
   "source": [
    "df.columns"
   ]
  },
  {
   "cell_type": "code",
   "execution_count": 25,
   "id": "3ed05ce0",
   "metadata": {},
   "outputs": [],
   "source": [
    "#df=df.drop(['Unnamed: 0', 'Unnamed: 0.1', 'Unnamed: 0.1.1'],axis=1)"
   ]
  },
  {
   "cell_type": "code",
   "execution_count": 26,
   "id": "c7e1833b",
   "metadata": {},
   "outputs": [],
   "source": [
    "#to find out howmany airports are in dataset"
   ]
  },
  {
   "cell_type": "code",
   "execution_count": 27,
   "id": "814a0d52",
   "metadata": {},
   "outputs": [
    {
     "data": {
      "text/plain": [
       "28"
      ]
     },
     "execution_count": 27,
     "metadata": {},
     "output_type": "execute_result"
    }
   ],
   "source": [
    "len(df.AirportName.unique())"
   ]
  },
  {
   "cell_type": "code",
   "execution_count": 28,
   "id": "aebc56f1",
   "metadata": {},
   "outputs": [],
   "source": [
    "#to find out how many different countries"
   ]
  },
  {
   "cell_type": "code",
   "execution_count": 29,
   "id": "cd7acffc",
   "metadata": {},
   "outputs": [
    {
     "data": {
      "text/plain": [
       "array(['Australia', 'Chile', 'Canada', 'United States of America'],\n",
       "      dtype=object)"
      ]
     },
     "execution_count": 29,
     "metadata": {},
     "output_type": "execute_result"
    }
   ],
   "source": [
    "df.Country.unique()\n"
   ]
  },
  {
   "cell_type": "code",
   "execution_count": 30,
   "id": "9287fa56",
   "metadata": {},
   "outputs": [],
   "source": [
    "#to remove (the) from the response"
   ]
  },
  {
   "cell_type": "code",
   "execution_count": 31,
   "id": "c14f4390",
   "metadata": {},
   "outputs": [],
   "source": [
    "df[\"Country\"] = df[\"Country\"].replace(\"United States of America (the)\",\"United States of America\")"
   ]
  },
  {
   "cell_type": "code",
   "execution_count": 32,
   "id": "781ff354",
   "metadata": {},
   "outputs": [],
   "source": [
    "#to recall dataset with the new reponse"
   ]
  },
  {
   "cell_type": "code",
   "execution_count": 33,
   "id": "9ea78da0",
   "metadata": {},
   "outputs": [],
   "source": [
    "df.to_excel(\"covid_impact_on_airport_traffic.xlsx\", index=False)"
   ]
  },
  {
   "cell_type": "code",
   "execution_count": 34,
   "id": "6eb80efd",
   "metadata": {},
   "outputs": [],
   "source": [
    "#to test Assumptions"
   ]
  },
  {
   "cell_type": "code",
   "execution_count": 35,
   "id": "ce2dda26",
   "metadata": {},
   "outputs": [],
   "source": [
    "#linearity"
   ]
  },
  {
   "cell_type": "code",
   "execution_count": 36,
   "id": "8bbc27a9",
   "metadata": {},
   "outputs": [
    {
     "data": {
      "text/plain": [
       "<seaborn.axisgrid.PairGrid at 0x2845494c820>"
      ]
     },
     "execution_count": 36,
     "metadata": {},
     "output_type": "execute_result"
    },
    {
     "data": {
      "image/png": "[encoded data removed]",
      "text/plain": [
       "<Figure size 360x360 with 6 Axes>"
      ]
     },
     "metadata": {
      "needs_background": "light"
     },
     "output_type": "display_data"
    }
   ],
   "source": [
    "sns.pairplot(df)"
   ]
  },
  {
   "cell_type": "code",
   "execution_count": 39,
   "id": "609ab68c",
   "metadata": {},
   "outputs": [],
   "source": [
    "df['Date'] = pd.to_datetime(df[\"Date\"])"
   ]
  },
  {
   "cell_type": "code",
   "execution_count": 40,
   "id": "2d5ab1ed",
   "metadata": {},
   "outputs": [],
   "source": [
    "df['year'] = df['Date'].dt.year\n",
    "df['month'] = df['Date'].dt.month\n",
    "df['day'] = df['Date'].dt.day\n",
    "df['dayofweek'] = df['Date'].dt.dayofweek"
   ]
  },
  {
   "cell_type": "code",
   "execution_count": 41,
   "id": "627e1bdd",
   "metadata": {},
   "outputs": [
    {
     "data": {
      "text/html": [
       "<div>\n",
       "<style scoped>\n",
       "    .dataframe tbody tr th:only-of-type {\n",
       "        vertical-align: middle;\n",
       "    }\n",
       "\n",
       "    .dataframe tbody tr th {\n",
       "        vertical-align: top;\n",
       "    }\n",
       "\n",
       "    .dataframe thead th {\n",
       "        text-align: right;\n",
       "    }\n",
       "</style>\n",
       "<table border=\"1\" class=\"dataframe\">\n",
       "  <thead>\n",
       "    <tr style=\"text-align: right;\">\n",
       "      <th></th>\n",
       "      <th>AggregationMethod</th>\n",
       "      <th>Date</th>\n",
       "      <th>Version</th>\n",
       "      <th>AirportName</th>\n",
       "      <th>PercentOfBaseline</th>\n",
       "      <th>Centroid</th>\n",
       "      <th>City</th>\n",
       "      <th>State</th>\n",
       "      <th>ISO_3166_2</th>\n",
       "      <th>Country</th>\n",
       "      <th>Geography</th>\n",
       "      <th>year</th>\n",
       "      <th>month</th>\n",
       "      <th>day</th>\n",
       "      <th>dayofweek</th>\n",
       "    </tr>\n",
       "  </thead>\n",
       "  <tbody>\n",
       "    <tr>\n",
       "      <th>0</th>\n",
       "      <td>Daily</td>\n",
       "      <td>2020-04-03</td>\n",
       "      <td>1</td>\n",
       "      <td>Kingsford Smith</td>\n",
       "      <td>64</td>\n",
       "      <td>POINT(151.180087713813 -33.9459774986125)</td>\n",
       "      <td>Sydney</td>\n",
       "      <td>New South Wales</td>\n",
       "      <td>AU</td>\n",
       "      <td>Australia</td>\n",
       "      <td>POLYGON((151.164354085922 -33.9301772341877, 1...</td>\n",
       "      <td>2020</td>\n",
       "      <td>4</td>\n",
       "      <td>3</td>\n",
       "      <td>4</td>\n",
       "    </tr>\n",
       "    <tr>\n",
       "      <th>1</th>\n",
       "      <td>Daily</td>\n",
       "      <td>2020-04-13</td>\n",
       "      <td>1</td>\n",
       "      <td>Kingsford Smith</td>\n",
       "      <td>29</td>\n",
       "      <td>POINT(151.180087713813 -33.9459774986125)</td>\n",
       "      <td>Sydney</td>\n",
       "      <td>New South Wales</td>\n",
       "      <td>AU</td>\n",
       "      <td>Australia</td>\n",
       "      <td>POLYGON((151.164354085922 -33.9301772341877, 1...</td>\n",
       "      <td>2020</td>\n",
       "      <td>4</td>\n",
       "      <td>13</td>\n",
       "      <td>0</td>\n",
       "    </tr>\n",
       "    <tr>\n",
       "      <th>2</th>\n",
       "      <td>Daily</td>\n",
       "      <td>2020-07-10</td>\n",
       "      <td>1</td>\n",
       "      <td>Kingsford Smith</td>\n",
       "      <td>54</td>\n",
       "      <td>POINT(151.180087713813 -33.9459774986125)</td>\n",
       "      <td>Sydney</td>\n",
       "      <td>New South Wales</td>\n",
       "      <td>AU</td>\n",
       "      <td>Australia</td>\n",
       "      <td>POLYGON((151.164354085922 -33.9301772341877, 1...</td>\n",
       "      <td>2020</td>\n",
       "      <td>7</td>\n",
       "      <td>10</td>\n",
       "      <td>4</td>\n",
       "    </tr>\n",
       "    <tr>\n",
       "      <th>3</th>\n",
       "      <td>Daily</td>\n",
       "      <td>2020-09-02</td>\n",
       "      <td>1</td>\n",
       "      <td>Kingsford Smith</td>\n",
       "      <td>18</td>\n",
       "      <td>POINT(151.180087713813 -33.9459774986125)</td>\n",
       "      <td>Sydney</td>\n",
       "      <td>New South Wales</td>\n",
       "      <td>AU</td>\n",
       "      <td>Australia</td>\n",
       "      <td>POLYGON((151.164354085922 -33.9301772341877, 1...</td>\n",
       "      <td>2020</td>\n",
       "      <td>9</td>\n",
       "      <td>2</td>\n",
       "      <td>2</td>\n",
       "    </tr>\n",
       "    <tr>\n",
       "      <th>4</th>\n",
       "      <td>Daily</td>\n",
       "      <td>2020-10-31</td>\n",
       "      <td>1</td>\n",
       "      <td>Kingsford Smith</td>\n",
       "      <td>22</td>\n",
       "      <td>POINT(151.180087713813 -33.9459774986125)</td>\n",
       "      <td>Sydney</td>\n",
       "      <td>New South Wales</td>\n",
       "      <td>AU</td>\n",
       "      <td>Australia</td>\n",
       "      <td>POLYGON((151.164354085922 -33.9301772341877, 1...</td>\n",
       "      <td>2020</td>\n",
       "      <td>10</td>\n",
       "      <td>31</td>\n",
       "      <td>5</td>\n",
       "    </tr>\n",
       "  </tbody>\n",
       "</table>\n",
       "</div>"
      ],
      "text/plain": [
       "  AggregationMethod       Date  Version      AirportName  PercentOfBaseline  \\\n",
       "0             Daily 2020-04-03        1  Kingsford Smith                 64   \n",
       "1             Daily 2020-04-13        1  Kingsford Smith                 29   \n",
       "2             Daily 2020-07-10        1  Kingsford Smith                 54   \n",
       "3             Daily 2020-09-02        1  Kingsford Smith                 18   \n",
       "4             Daily 2020-10-31        1  Kingsford Smith                 22   \n",
       "\n",
       "                                    Centroid    City            State  \\\n",
       "0  POINT(151.180087713813 -33.9459774986125)  Sydney  New South Wales   \n",
       "1  POINT(151.180087713813 -33.9459774986125)  Sydney  New South Wales   \n",
       "2  POINT(151.180087713813 -33.9459774986125)  Sydney  New South Wales   \n",
       "3  POINT(151.180087713813 -33.9459774986125)  Sydney  New South Wales   \n",
       "4  POINT(151.180087713813 -33.9459774986125)  Sydney  New South Wales   \n",
       "\n",
       "  ISO_3166_2    Country                                          Geography  \\\n",
       "0         AU  Australia  POLYGON((151.164354085922 -33.9301772341877, 1...   \n",
       "1         AU  Australia  POLYGON((151.164354085922 -33.9301772341877, 1...   \n",
       "2         AU  Australia  POLYGON((151.164354085922 -33.9301772341877, 1...   \n",
       "3         AU  Australia  POLYGON((151.164354085922 -33.9301772341877, 1...   \n",
       "4         AU  Australia  POLYGON((151.164354085922 -33.9301772341877, 1...   \n",
       "\n",
       "   year  month  day  dayofweek  \n",
       "0  2020      4    3          4  \n",
       "1  2020      4   13          0  \n",
       "2  2020      7   10          4  \n",
       "3  2020      9    2          2  \n",
       "4  2020     10   31          5  "
      ]
     },
     "execution_count": 41,
     "metadata": {},
     "output_type": "execute_result"
    }
   ],
   "source": [
    "df.head()"
   ]
  },
  {
   "cell_type": "code",
   "execution_count": 76,
   "id": "3c076ded",
   "metadata": {},
   "outputs": [],
   "source": [
    "df_vars = df[[\"AirportName\",\"PercentOfBaseline\",\"State\",\"Country\",\"month\",\"day\",\"dayofweek\"]]"
   ]
  },
  {
   "cell_type": "code",
   "execution_count": 77,
   "id": "3faef59d",
   "metadata": {},
   "outputs": [],
   "source": [
    "#homoscedasticity"
   ]
  },
  {
   "cell_type": "code",
   "execution_count": 78,
   "id": "7c97b4dc",
   "metadata": {},
   "outputs": [],
   "source": [
    "y = df_vars['PercentOfBaseline']\n",
    "x = pd.get_dummies(df_vars.drop(\"PercentOfBaseline\",axis=1))"
   ]
  },
  {
   "cell_type": "code",
   "execution_count": 79,
   "id": "ca3a7c17",
   "metadata": {},
   "outputs": [],
   "source": [
    "model = sm.OLS(y,x).fit()"
   ]
  },
  {
   "cell_type": "code",
   "execution_count": 80,
   "id": "2172d836",
   "metadata": {},
   "outputs": [],
   "source": [
    "pred_val = model.fittedvalues.copy()\n",
    "true_val = df['PercentOfBaseline'].values.copy()\n",
    "residual = true_val - pred_val"
   ]
  },
  {
   "cell_type": "code",
   "execution_count": 81,
   "id": "1f6052d5",
   "metadata": {},
   "outputs": [
    {
     "data": {
      "image/png": "[encoded data removed]",
      "text/plain": [
       "<Figure size 432x180 with 1 Axes>"
      ]
     },
     "metadata": {
      "needs_background": "light"
     },
     "output_type": "display_data"
    }
   ],
   "source": [
    "fig, ax = plt.subplots(figsize=(6,2.5))\n",
    "_ = ax.scatter(residual, pred_val)"
   ]
  },
  {
   "cell_type": "code",
   "execution_count": 82,
   "id": "6628137a",
   "metadata": {},
   "outputs": [
    {
     "data": {
      "text/plain": [
       "(534.8890635205354, nan, 577.4347579991991, 7.839828849711534e-123)"
      ]
     },
     "execution_count": 82,
     "metadata": {},
     "output_type": "execute_result"
    }
   ],
   "source": [
    "sms.diagnostic.het_breuschpagan(residual, df[['PercentOfBaseline']])"
   ]
  },
  {
   "cell_type": "code",
   "execution_count": 83,
   "id": "50c19dce",
   "metadata": {},
   "outputs": [],
   "source": [
    "#sms.linear_harvey_collier(model)"
   ]
  },
  {
   "cell_type": "code",
   "execution_count": 53,
   "id": "84f14e28",
   "metadata": {
    "scrolled": true
   },
   "outputs": [
    {
     "data": {
      "text/plain": [
       "(array([  17.,  174.,  294.,  386.,  646., 1089., 1353., 1105.,  855.,\n",
       "        1328.]),\n",
       " array([  0.,  10.,  20.,  30.,  40.,  50.,  60.,  70.,  80.,  90., 100.]),\n",
       " <BarContainer object of 10 artists>)"
      ]
     },
     "execution_count": 53,
     "metadata": {},
     "output_type": "execute_result"
    },
    {
     "data": {
      "image/png": "[encoded data removed]",
      "text/plain": [
       "<Figure size 432x288 with 1 Axes>"
      ]
     },
     "metadata": {
      "needs_background": "light"
     },
     "output_type": "display_data"
    }
   ],
   "source": [
    "plt.hist(df[\"PercentOfBaseline\"])"
   ]
  },
  {
   "cell_type": "code",
   "execution_count": 38,
   "id": "9d445872",
   "metadata": {},
   "outputs": [
    {
     "data": {
      "image/png": "[encoded data removed]",
      "text/plain": [
       "<Figure size 432x180 with 1 Axes>"
      ]
     },
     "metadata": {
      "needs_background": "light"
     },
     "output_type": "display_data"
    }
   ],
   "source": [
    "fig, ax = plt.subplots(figsize=(6,2.5))\n",
    "_ = ax.scatter(residual, pred_val)"
   ]
  },
  {
   "cell_type": "code",
   "execution_count": 39,
   "id": "eba6e399",
   "metadata": {},
   "outputs": [],
   "source": [
    "#Screening for Outliers"
   ]
  },
  {
   "cell_type": "code",
   "execution_count": 50,
   "id": "06e63ca7",
   "metadata": {},
   "outputs": [
    {
     "data": {
      "image/png": "[encoded data removed]",
      "text/plain": [
       "<Figure size 864x576 with 1 Axes>"
      ]
     },
     "metadata": {
      "needs_background": "light"
     },
     "output_type": "display_data"
    }
   ],
   "source": [
    "fig, ax = plt.subplots(figsize=(12,8))\n",
    "fig = sm.graphics.influence_plot(model, alpha = .05, ax = ax, criterion= \"cooks\")"
   ]
  },
  {
   "cell_type": "code",
   "execution_count": 57,
   "id": "60c0eca5",
   "metadata": {},
   "outputs": [],
   "source": [
    "#infl = model.get_influence()\n",
    "#print(infl.summary_frame())"
   ]
  },
  {
   "cell_type": "code",
   "execution_count": 58,
   "id": "2ae503c3",
   "metadata": {},
   "outputs": [
    {
     "data": {
      "text/html": [
       "<div>\n",
       "<style scoped>\n",
       "    .dataframe tbody tr th:only-of-type {\n",
       "        vertical-align: middle;\n",
       "    }\n",
       "\n",
       "    .dataframe tbody tr th {\n",
       "        vertical-align: top;\n",
       "    }\n",
       "\n",
       "    .dataframe thead th {\n",
       "        text-align: right;\n",
       "    }\n",
       "</style>\n",
       "<table border=\"1\" class=\"dataframe\">\n",
       "  <thead>\n",
       "    <tr style=\"text-align: right;\">\n",
       "      <th></th>\n",
       "      <th>AirportName</th>\n",
       "      <th>PercentOfBaseline</th>\n",
       "      <th>State</th>\n",
       "      <th>Country</th>\n",
       "      <th>year</th>\n",
       "      <th>month</th>\n",
       "      <th>day</th>\n",
       "      <th>dayofweek</th>\n",
       "    </tr>\n",
       "  </thead>\n",
       "  <tbody>\n",
       "    <tr>\n",
       "      <th>0</th>\n",
       "      <td>Kingsford Smith</td>\n",
       "      <td>64</td>\n",
       "      <td>New South Wales</td>\n",
       "      <td>Australia</td>\n",
       "      <td>2020</td>\n",
       "      <td>4</td>\n",
       "      <td>3</td>\n",
       "      <td>4</td>\n",
       "    </tr>\n",
       "    <tr>\n",
       "      <th>1</th>\n",
       "      <td>Kingsford Smith</td>\n",
       "      <td>29</td>\n",
       "      <td>New South Wales</td>\n",
       "      <td>Australia</td>\n",
       "      <td>2020</td>\n",
       "      <td>4</td>\n",
       "      <td>13</td>\n",
       "      <td>0</td>\n",
       "    </tr>\n",
       "    <tr>\n",
       "      <th>2</th>\n",
       "      <td>Kingsford Smith</td>\n",
       "      <td>54</td>\n",
       "      <td>New South Wales</td>\n",
       "      <td>Australia</td>\n",
       "      <td>2020</td>\n",
       "      <td>7</td>\n",
       "      <td>10</td>\n",
       "      <td>4</td>\n",
       "    </tr>\n",
       "    <tr>\n",
       "      <th>3</th>\n",
       "      <td>Kingsford Smith</td>\n",
       "      <td>18</td>\n",
       "      <td>New South Wales</td>\n",
       "      <td>Australia</td>\n",
       "      <td>2020</td>\n",
       "      <td>9</td>\n",
       "      <td>2</td>\n",
       "      <td>2</td>\n",
       "    </tr>\n",
       "    <tr>\n",
       "      <th>4</th>\n",
       "      <td>Kingsford Smith</td>\n",
       "      <td>22</td>\n",
       "      <td>New South Wales</td>\n",
       "      <td>Australia</td>\n",
       "      <td>2020</td>\n",
       "      <td>10</td>\n",
       "      <td>31</td>\n",
       "      <td>5</td>\n",
       "    </tr>\n",
       "    <tr>\n",
       "      <th>...</th>\n",
       "      <td>...</td>\n",
       "      <td>...</td>\n",
       "      <td>...</td>\n",
       "      <td>...</td>\n",
       "      <td>...</td>\n",
       "      <td>...</td>\n",
       "      <td>...</td>\n",
       "      <td>...</td>\n",
       "    </tr>\n",
       "    <tr>\n",
       "      <th>7242</th>\n",
       "      <td>Seattle-Tacoma International</td>\n",
       "      <td>80</td>\n",
       "      <td>Washington</td>\n",
       "      <td>United States of America</td>\n",
       "      <td>2020</td>\n",
       "      <td>6</td>\n",
       "      <td>5</td>\n",
       "      <td>4</td>\n",
       "    </tr>\n",
       "    <tr>\n",
       "      <th>7243</th>\n",
       "      <td>Seattle-Tacoma International</td>\n",
       "      <td>55</td>\n",
       "      <td>Washington</td>\n",
       "      <td>United States of America</td>\n",
       "      <td>2020</td>\n",
       "      <td>10</td>\n",
       "      <td>3</td>\n",
       "      <td>5</td>\n",
       "    </tr>\n",
       "    <tr>\n",
       "      <th>7244</th>\n",
       "      <td>Seattle-Tacoma International</td>\n",
       "      <td>76</td>\n",
       "      <td>Washington</td>\n",
       "      <td>United States of America</td>\n",
       "      <td>2020</td>\n",
       "      <td>7</td>\n",
       "      <td>16</td>\n",
       "      <td>3</td>\n",
       "    </tr>\n",
       "    <tr>\n",
       "      <th>7245</th>\n",
       "      <td>Seattle-Tacoma International</td>\n",
       "      <td>69</td>\n",
       "      <td>Washington</td>\n",
       "      <td>United States of America</td>\n",
       "      <td>2020</td>\n",
       "      <td>7</td>\n",
       "      <td>31</td>\n",
       "      <td>4</td>\n",
       "    </tr>\n",
       "    <tr>\n",
       "      <th>7246</th>\n",
       "      <td>Seattle-Tacoma International</td>\n",
       "      <td>68</td>\n",
       "      <td>Washington</td>\n",
       "      <td>United States of America</td>\n",
       "      <td>2020</td>\n",
       "      <td>8</td>\n",
       "      <td>30</td>\n",
       "      <td>6</td>\n",
       "    </tr>\n",
       "  </tbody>\n",
       "</table>\n",
       "<p>7247 rows × 8 columns</p>\n",
       "</div>"
      ],
      "text/plain": [
       "                        AirportName  PercentOfBaseline            State  \\\n",
       "0                   Kingsford Smith                 64  New South Wales   \n",
       "1                   Kingsford Smith                 29  New South Wales   \n",
       "2                   Kingsford Smith                 54  New South Wales   \n",
       "3                   Kingsford Smith                 18  New South Wales   \n",
       "4                   Kingsford Smith                 22  New South Wales   \n",
       "...                             ...                ...              ...   \n",
       "7242  Seattle-Tacoma International                  80       Washington   \n",
       "7243  Seattle-Tacoma International                  55       Washington   \n",
       "7244  Seattle-Tacoma International                  76       Washington   \n",
       "7245  Seattle-Tacoma International                  69       Washington   \n",
       "7246  Seattle-Tacoma International                  68       Washington   \n",
       "\n",
       "                       Country  year  month  day  dayofweek  \n",
       "0                    Australia  2020      4    3          4  \n",
       "1                    Australia  2020      4   13          0  \n",
       "2                    Australia  2020      7   10          4  \n",
       "3                    Australia  2020      9    2          2  \n",
       "4                    Australia  2020     10   31          5  \n",
       "...                        ...   ...    ...  ...        ...  \n",
       "7242  United States of America  2020      6    5          4  \n",
       "7243  United States of America  2020     10    3          5  \n",
       "7244  United States of America  2020      7   16          3  \n",
       "7245  United States of America  2020      7   31          4  \n",
       "7246  United States of America  2020      8   30          6  \n",
       "\n",
       "[7247 rows x 8 columns]"
      ]
     },
     "execution_count": 58,
     "metadata": {},
     "output_type": "execute_result"
    }
   ],
   "source": [
    "df_vars"
   ]
  },
  {
   "cell_type": "code",
   "execution_count": 55,
   "id": "72641e08",
   "metadata": {},
   "outputs": [
    {
     "data": {
      "text/html": [
       "<table class=\"simpletable\">\n",
       "<caption>OLS Regression Results</caption>\n",
       "<tr>\n",
       "  <th>Dep. Variable:</th>    <td>PercentOfBaseline</td> <th>  R-squared:         </th> <td>   0.583</td> \n",
       "</tr>\n",
       "<tr>\n",
       "  <th>Model:</th>                   <td>OLS</td>        <th>  Adj. R-squared:    </th> <td>   0.581</td> \n",
       "</tr>\n",
       "<tr>\n",
       "  <th>Method:</th>             <td>Least Squares</td>   <th>  F-statistic:       </th> <td>   336.3</td> \n",
       "</tr>\n",
       "<tr>\n",
       "  <th>Date:</th>             <td>Tue, 26 Apr 2022</td>  <th>  Prob (F-statistic):</th>  <td>  0.00</td>  \n",
       "</tr>\n",
       "<tr>\n",
       "  <th>Time:</th>                 <td>15:01:15</td>      <th>  Log-Likelihood:    </th> <td> -29558.</td> \n",
       "</tr>\n",
       "<tr>\n",
       "  <th>No. Observations:</th>      <td>  7247</td>       <th>  AIC:               </th> <td>5.918e+04</td>\n",
       "</tr>\n",
       "<tr>\n",
       "  <th>Df Residuals:</th>          <td>  7216</td>       <th>  BIC:               </th> <td>5.939e+04</td>\n",
       "</tr>\n",
       "<tr>\n",
       "  <th>Df Model:</th>              <td>    30</td>       <th>                     </th>     <td> </td>    \n",
       "</tr>\n",
       "<tr>\n",
       "  <th>Covariance Type:</th>      <td>nonrobust</td>     <th>                     </th>     <td> </td>    \n",
       "</tr>\n",
       "</table>\n",
       "<table class=\"simpletable\">\n",
       "<tr>\n",
       "                            <td></td>                               <th>coef</th>     <th>std err</th>      <th>t</th>      <th>P>|t|</th>  <th>[0.025</th>    <th>0.975]</th>  \n",
       "</tr>\n",
       "<tr>\n",
       "  <th>year</th>                                                  <td>    0.0265</td> <td>    0.000</td> <td>   77.217</td> <td> 0.000</td> <td>    0.026</td> <td>    0.027</td>\n",
       "</tr>\n",
       "<tr>\n",
       "  <th>month</th>                                                 <td>    1.4944</td> <td>    0.068</td> <td>   21.989</td> <td> 0.000</td> <td>    1.361</td> <td>    1.628</td>\n",
       "</tr>\n",
       "<tr>\n",
       "  <th>day</th>                                                   <td>    0.1436</td> <td>    0.019</td> <td>    7.529</td> <td> 0.000</td> <td>    0.106</td> <td>    0.181</td>\n",
       "</tr>\n",
       "<tr>\n",
       "  <th>dayofweek</th>                                             <td>   -2.0966</td> <td>    0.085</td> <td>  -24.788</td> <td> 0.000</td> <td>   -2.262</td> <td>   -1.931</td>\n",
       "</tr>\n",
       "<tr>\n",
       "  <th>AirportName_Boston Logan International </th>               <td>    0.1965</td> <td>    0.428</td> <td>    0.459</td> <td> 0.647</td> <td>   -0.643</td> <td>    1.036</td>\n",
       "</tr>\n",
       "<tr>\n",
       "  <th>AirportName_Calgary International</th>                     <td>   10.7654</td> <td>    0.664</td> <td>   16.211</td> <td> 0.000</td> <td>    9.464</td> <td>   12.067</td>\n",
       "</tr>\n",
       "<tr>\n",
       "  <th>AirportName_Charlotte Douglas International</th>           <td>    5.5317</td> <td>    0.428</td> <td>   12.912</td> <td> 0.000</td> <td>    4.692</td> <td>    6.372</td>\n",
       "</tr>\n",
       "<tr>\n",
       "  <th>AirportName_Chicago OHare International</th>               <td>    4.3861</td> <td>    0.428</td> <td>   10.238</td> <td> 0.000</td> <td>    3.546</td> <td>    5.226</td>\n",
       "</tr>\n",
       "<tr>\n",
       "  <th>AirportName_Dallas/Fort Worth International </th>          <td>    5.4766</td> <td>    0.428</td> <td>   12.807</td> <td> 0.000</td> <td>    4.638</td> <td>    6.315</td>\n",
       "</tr>\n",
       "<tr>\n",
       "  <th>AirportName_Daniel K. Inouye International </th>           <td>   10.1582</td> <td>    0.428</td> <td>   23.712</td> <td> 0.000</td> <td>    9.318</td> <td>   10.998</td>\n",
       "</tr>\n",
       "<tr>\n",
       "  <th>AirportName_Denver International</th>                      <td>   -4.1081</td> <td>    0.428</td> <td>   -9.589</td> <td> 0.000</td> <td>   -4.948</td> <td>   -3.268</td>\n",
       "</tr>\n",
       "<tr>\n",
       "  <th>AirportName_Detroit Metropolitan Wayne County </th>        <td>   -8.4395</td> <td>    0.428</td> <td>  -19.700</td> <td> 0.000</td> <td>   -9.279</td> <td>   -7.600</td>\n",
       "</tr>\n",
       "<tr>\n",
       "  <th>AirportName_Edmonton International</th>                    <td>   -5.2043</td> <td>    0.681</td> <td>   -7.637</td> <td> 0.000</td> <td>   -6.540</td> <td>   -3.868</td>\n",
       "</tr>\n",
       "<tr>\n",
       "  <th>AirportName_Halifax International</th>                     <td>   -8.1550</td> <td>    0.414</td> <td>  -19.707</td> <td> 0.000</td> <td>   -8.966</td> <td>   -7.344</td>\n",
       "</tr>\n",
       "<tr>\n",
       "  <th>AirportName_Hamilton International</th>                    <td>   16.9187</td> <td>    0.657</td> <td>   25.759</td> <td> 0.000</td> <td>   15.631</td> <td>   18.206</td>\n",
       "</tr>\n",
       "<tr>\n",
       "  <th>AirportName_Hartsfield-Jackson Atlanta International </th> <td>   -1.3173</td> <td>    0.428</td> <td>   -3.080</td> <td> 0.002</td> <td>   -2.156</td> <td>   -0.479</td>\n",
       "</tr>\n",
       "<tr>\n",
       "  <th>AirportName_John F. Kennedy International</th>             <td>    0.3007</td> <td>    0.658</td> <td>    0.457</td> <td> 0.648</td> <td>   -0.989</td> <td>    1.591</td>\n",
       "</tr>\n",
       "<tr>\n",
       "  <th>AirportName_Kingsford Smith</th>                           <td>   -7.5984</td> <td>    0.263</td> <td>  -28.926</td> <td> 0.000</td> <td>   -8.113</td> <td>   -7.083</td>\n",
       "</tr>\n",
       "<tr>\n",
       "  <th>AirportName_LaGuardia</th>                                 <td>   -1.8696</td> <td>    0.659</td> <td>   -2.838</td> <td> 0.005</td> <td>   -3.161</td> <td>   -0.578</td>\n",
       "</tr>\n",
       "<tr>\n",
       "  <th>AirportName_Los Angeles International</th>                 <td>    9.6221</td> <td>    0.658</td> <td>   14.622</td> <td> 0.000</td> <td>    8.332</td> <td>   10.912</td>\n",
       "</tr>\n",
       "<tr>\n",
       "  <th>AirportName_McCarran International</th>                    <td>  -13.0468</td> <td>    0.428</td> <td>  -30.454</td> <td> 0.000</td> <td>  -13.887</td> <td>  -12.207</td>\n",
       "</tr>\n",
       "<tr>\n",
       "  <th>AirportName_Miami International </th>                      <td>    3.0854</td> <td>    0.428</td> <td>    7.202</td> <td> 0.000</td> <td>    2.246</td> <td>    3.925</td>\n",
       "</tr>\n",
       "<tr>\n",
       "  <th>AirportName_Montreal Mirabel</th>                          <td>    9.2880</td> <td>    0.659</td> <td>   14.086</td> <td> 0.000</td> <td>    7.995</td> <td>   10.581</td>\n",
       "</tr>\n",
       "<tr>\n",
       "  <th>AirportName_Montreal Trudeau</th>                          <td>   -4.6029</td> <td>    0.656</td> <td>   -7.015</td> <td> 0.000</td> <td>   -5.889</td> <td>   -3.317</td>\n",
       "</tr>\n",
       "<tr>\n",
       "  <th>AirportName_Newark Liberty International </th>             <td>   11.5509</td> <td>    0.428</td> <td>   26.963</td> <td> 0.000</td> <td>   10.711</td> <td>   12.391</td>\n",
       "</tr>\n",
       "<tr>\n",
       "  <th>AirportName_San Francisco International</th>               <td>  -13.3445</td> <td>    0.659</td> <td>  -20.256</td> <td> 0.000</td> <td>  -14.636</td> <td>  -12.053</td>\n",
       "</tr>\n",
       "<tr>\n",
       "  <th>AirportName_Santiago International Airport</th>            <td>   -8.9370</td> <td>    0.272</td> <td>  -32.833</td> <td> 0.000</td> <td>   -9.471</td> <td>   -8.403</td>\n",
       "</tr>\n",
       "<tr>\n",
       "  <th>AirportName_Seattle-Tacoma International </th>             <td>   -0.1656</td> <td>    0.428</td> <td>   -0.387</td> <td> 0.699</td> <td>   -1.005</td> <td>    0.674</td>\n",
       "</tr>\n",
       "<tr>\n",
       "  <th>AirportName_Toronto Pearson</th>                           <td>  -16.6390</td> <td>    0.656</td> <td>  -25.358</td> <td> 0.000</td> <td>  -17.925</td> <td>  -15.353</td>\n",
       "</tr>\n",
       "<tr>\n",
       "  <th>AirportName_Vancouver International</th>                   <td>    1.8491</td> <td>    0.407</td> <td>    4.539</td> <td> 0.000</td> <td>    1.051</td> <td>    2.648</td>\n",
       "</tr>\n",
       "<tr>\n",
       "  <th>AirportName_Washington Dulles International </th>          <td>   -4.1867</td> <td>    0.428</td> <td>   -9.773</td> <td> 0.000</td> <td>   -5.026</td> <td>   -3.347</td>\n",
       "</tr>\n",
       "<tr>\n",
       "  <th>AirportName_Winnipeg International</th>                    <td>    8.4851</td> <td>    0.407</td> <td>   20.830</td> <td> 0.000</td> <td>    7.687</td> <td>    9.284</td>\n",
       "</tr>\n",
       "<tr>\n",
       "  <th>State_Alberta</th>                                         <td>    5.5611</td> <td>    0.394</td> <td>   14.129</td> <td> 0.000</td> <td>    4.790</td> <td>    6.333</td>\n",
       "</tr>\n",
       "<tr>\n",
       "  <th>State_British Columbia</th>                                <td>    1.8491</td> <td>    0.407</td> <td>    4.539</td> <td> 0.000</td> <td>    1.051</td> <td>    2.648</td>\n",
       "</tr>\n",
       "<tr>\n",
       "  <th>State_California</th>                                      <td>   -3.7223</td> <td>    0.406</td> <td>   -9.159</td> <td> 0.000</td> <td>   -4.519</td> <td>   -2.926</td>\n",
       "</tr>\n",
       "<tr>\n",
       "  <th>State_Colorado</th>                                        <td>   -4.1081</td> <td>    0.428</td> <td>   -9.589</td> <td> 0.000</td> <td>   -4.948</td> <td>   -3.268</td>\n",
       "</tr>\n",
       "<tr>\n",
       "  <th>State_Florida</th>                                         <td>    3.0854</td> <td>    0.428</td> <td>    7.202</td> <td> 0.000</td> <td>    2.246</td> <td>    3.925</td>\n",
       "</tr>\n",
       "<tr>\n",
       "  <th>State_Georgia</th>                                         <td>   -1.3173</td> <td>    0.428</td> <td>   -3.080</td> <td> 0.002</td> <td>   -2.156</td> <td>   -0.479</td>\n",
       "</tr>\n",
       "<tr>\n",
       "  <th>State_Hawaii</th>                                          <td>   10.1582</td> <td>    0.428</td> <td>   23.712</td> <td> 0.000</td> <td>    9.318</td> <td>   10.998</td>\n",
       "</tr>\n",
       "<tr>\n",
       "  <th>State_Illinois</th>                                        <td>    4.3861</td> <td>    0.428</td> <td>   10.238</td> <td> 0.000</td> <td>    3.546</td> <td>    5.226</td>\n",
       "</tr>\n",
       "<tr>\n",
       "  <th>State_Manitoba</th>                                        <td>    8.4851</td> <td>    0.407</td> <td>   20.830</td> <td> 0.000</td> <td>    7.687</td> <td>    9.284</td>\n",
       "</tr>\n",
       "<tr>\n",
       "  <th>State_Massachusetts</th>                                   <td>    0.1965</td> <td>    0.428</td> <td>    0.459</td> <td> 0.647</td> <td>   -0.643</td> <td>    1.036</td>\n",
       "</tr>\n",
       "<tr>\n",
       "  <th>State_Michigan</th>                                        <td>   -8.4395</td> <td>    0.428</td> <td>  -19.700</td> <td> 0.000</td> <td>   -9.279</td> <td>   -7.600</td>\n",
       "</tr>\n",
       "<tr>\n",
       "  <th>State_Nevada</th>                                          <td>  -13.0468</td> <td>    0.428</td> <td>  -30.454</td> <td> 0.000</td> <td>  -13.887</td> <td>  -12.207</td>\n",
       "</tr>\n",
       "<tr>\n",
       "  <th>State_New Jersey</th>                                      <td>   11.5509</td> <td>    0.428</td> <td>   26.963</td> <td> 0.000</td> <td>   10.711</td> <td>   12.391</td>\n",
       "</tr>\n",
       "<tr>\n",
       "  <th>State_New South Wales</th>                                 <td>   -7.5984</td> <td>    0.263</td> <td>  -28.926</td> <td> 0.000</td> <td>   -8.113</td> <td>   -7.083</td>\n",
       "</tr>\n",
       "<tr>\n",
       "  <th>State_New York</th>                                        <td>   -1.5689</td> <td>    0.406</td> <td>   -3.860</td> <td> 0.000</td> <td>   -2.366</td> <td>   -0.772</td>\n",
       "</tr>\n",
       "<tr>\n",
       "  <th>State_North Carolina</th>                                  <td>    5.5317</td> <td>    0.428</td> <td>   12.912</td> <td> 0.000</td> <td>    4.692</td> <td>    6.372</td>\n",
       "</tr>\n",
       "<tr>\n",
       "  <th>State_Nova Scotia</th>                                     <td>   -8.1550</td> <td>    0.414</td> <td>  -19.707</td> <td> 0.000</td> <td>   -8.966</td> <td>   -7.344</td>\n",
       "</tr>\n",
       "<tr>\n",
       "  <th>State_Ontario</th>                                         <td>    0.2797</td> <td>    0.386</td> <td>    0.725</td> <td> 0.469</td> <td>   -0.477</td> <td>    1.036</td>\n",
       "</tr>\n",
       "<tr>\n",
       "  <th>State_Quebec</th>                                          <td>    4.6851</td> <td>    0.386</td> <td>   12.123</td> <td> 0.000</td> <td>    3.928</td> <td>    5.443</td>\n",
       "</tr>\n",
       "<tr>\n",
       "  <th>State_Santiago Province</th>                               <td>   -8.9370</td> <td>    0.272</td> <td>  -32.833</td> <td> 0.000</td> <td>   -9.471</td> <td>   -8.403</td>\n",
       "</tr>\n",
       "<tr>\n",
       "  <th>State_Texas</th>                                           <td>    5.4766</td> <td>    0.428</td> <td>   12.807</td> <td> 0.000</td> <td>    4.638</td> <td>    6.315</td>\n",
       "</tr>\n",
       "<tr>\n",
       "  <th>State_Virginia</th>                                        <td>   -4.1867</td> <td>    0.428</td> <td>   -9.773</td> <td> 0.000</td> <td>   -5.026</td> <td>   -3.347</td>\n",
       "</tr>\n",
       "<tr>\n",
       "  <th>State_Washington</th>                                      <td>   -0.1656</td> <td>    0.428</td> <td>   -0.387</td> <td> 0.699</td> <td>   -1.005</td> <td>    0.674</td>\n",
       "</tr>\n",
       "<tr>\n",
       "  <th>Country_Australia</th>                                     <td>   -7.5984</td> <td>    0.263</td> <td>  -28.926</td> <td> 0.000</td> <td>   -8.113</td> <td>   -7.083</td>\n",
       "</tr>\n",
       "<tr>\n",
       "  <th>Country_Canada</th>                                        <td>   12.7051</td> <td>    0.222</td> <td>   57.119</td> <td> 0.000</td> <td>   12.269</td> <td>   13.141</td>\n",
       "</tr>\n",
       "<tr>\n",
       "  <th>Country_Chile</th>                                         <td>   -8.9370</td> <td>    0.272</td> <td>  -32.833</td> <td> 0.000</td> <td>   -9.471</td> <td>   -8.403</td>\n",
       "</tr>\n",
       "<tr>\n",
       "  <th>Country_United States of America</th>                      <td>    3.8303</td> <td>    0.222</td> <td>   17.291</td> <td> 0.000</td> <td>    3.396</td> <td>    4.264</td>\n",
       "</tr>\n",
       "</table>\n",
       "<table class=\"simpletable\">\n",
       "<tr>\n",
       "  <th>Omnibus:</th>       <td>1609.451</td> <th>  Durbin-Watson:     </th> <td>   1.881</td>\n",
       "</tr>\n",
       "<tr>\n",
       "  <th>Prob(Omnibus):</th>  <td> 0.000</td>  <th>  Jarque-Bera (JB):  </th> <td>7940.572</td>\n",
       "</tr>\n",
       "<tr>\n",
       "  <th>Skew:</th>           <td>-0.986</td>  <th>  Prob(JB):          </th> <td>    0.00</td>\n",
       "</tr>\n",
       "<tr>\n",
       "  <th>Kurtosis:</th>       <td> 7.733</td>  <th>  Cond. No.          </th> <td>1.63e+20</td>\n",
       "</tr>\n",
       "</table><br/><br/>Notes:<br/>[1] Standard Errors assume that the covariance matrix of the errors is correctly specified.<br/>[2] The smallest eigenvalue is 1.11e-30. This might indicate that there are<br/>strong multicollinearity problems or that the design matrix is singular."
      ],
      "text/plain": [
       "<class 'statsmodels.iolib.summary.Summary'>\n",
       "\"\"\"\n",
       "                            OLS Regression Results                            \n",
       "==============================================================================\n",
       "Dep. Variable:      PercentOfBaseline   R-squared:                       0.583\n",
       "Model:                            OLS   Adj. R-squared:                  0.581\n",
       "Method:                 Least Squares   F-statistic:                     336.3\n",
       "Date:                Tue, 26 Apr 2022   Prob (F-statistic):               0.00\n",
       "Time:                        15:01:15   Log-Likelihood:                -29558.\n",
       "No. Observations:                7247   AIC:                         5.918e+04\n",
       "Df Residuals:                    7216   BIC:                         5.939e+04\n",
       "Df Model:                          30                                         \n",
       "Covariance Type:            nonrobust                                         \n",
       "=========================================================================================================================\n",
       "                                                            coef    std err          t      P>|t|      [0.025      0.975]\n",
       "-------------------------------------------------------------------------------------------------------------------------\n",
       "year                                                      0.0265      0.000     77.217      0.000       0.026       0.027\n",
       "month                                                     1.4944      0.068     21.989      0.000       1.361       1.628\n",
       "day                                                       0.1436      0.019      7.529      0.000       0.106       0.181\n",
       "dayofweek                                                -2.0966      0.085    -24.788      0.000      -2.262      -1.931\n",
       "AirportName_Boston Logan International                    0.1965      0.428      0.459      0.647      -0.643       1.036\n",
       "AirportName_Calgary International                        10.7654      0.664     16.211      0.000       9.464      12.067\n",
       "AirportName_Charlotte Douglas International               5.5317      0.428     12.912      0.000       4.692       6.372\n",
       "AirportName_Chicago OHare International                   4.3861      0.428     10.238      0.000       3.546       5.226\n",
       "AirportName_Dallas/Fort Worth International               5.4766      0.428     12.807      0.000       4.638       6.315\n",
       "AirportName_Daniel K. Inouye International               10.1582      0.428     23.712      0.000       9.318      10.998\n",
       "AirportName_Denver International                         -4.1081      0.428     -9.589      0.000      -4.948      -3.268\n",
       "AirportName_Detroit Metropolitan Wayne County            -8.4395      0.428    -19.700      0.000      -9.279      -7.600\n",
       "AirportName_Edmonton International                       -5.2043      0.681     -7.637      0.000      -6.540      -3.868\n",
       "AirportName_Halifax International                        -8.1550      0.414    -19.707      0.000      -8.966      -7.344\n",
       "AirportName_Hamilton International                       16.9187      0.657     25.759      0.000      15.631      18.206\n",
       "AirportName_Hartsfield-Jackson Atlanta International     -1.3173      0.428     -3.080      0.002      -2.156      -0.479\n",
       "AirportName_John F. Kennedy International                 0.3007      0.658      0.457      0.648      -0.989       1.591\n",
       "AirportName_Kingsford Smith                              -7.5984      0.263    -28.926      0.000      -8.113      -7.083\n",
       "AirportName_LaGuardia                                    -1.8696      0.659     -2.838      0.005      -3.161      -0.578\n",
       "AirportName_Los Angeles International                     9.6221      0.658     14.622      0.000       8.332      10.912\n",
       "AirportName_McCarran International                      -13.0468      0.428    -30.454      0.000     -13.887     -12.207\n",
       "AirportName_Miami International                           3.0854      0.428      7.202      0.000       2.246       3.925\n",
       "AirportName_Montreal Mirabel                              9.2880      0.659     14.086      0.000       7.995      10.581\n",
       "AirportName_Montreal Trudeau                             -4.6029      0.656     -7.015      0.000      -5.889      -3.317\n",
       "AirportName_Newark Liberty International                 11.5509      0.428     26.963      0.000      10.711      12.391\n",
       "AirportName_San Francisco International                 -13.3445      0.659    -20.256      0.000     -14.636     -12.053\n",
       "AirportName_Santiago International Airport               -8.9370      0.272    -32.833      0.000      -9.471      -8.403\n",
       "AirportName_Seattle-Tacoma International                 -0.1656      0.428     -0.387      0.699      -1.005       0.674\n",
       "AirportName_Toronto Pearson                             -16.6390      0.656    -25.358      0.000     -17.925     -15.353\n",
       "AirportName_Vancouver International                       1.8491      0.407      4.539      0.000       1.051       2.648\n",
       "AirportName_Washington Dulles International              -4.1867      0.428     -9.773      0.000      -5.026      -3.347\n",
       "AirportName_Winnipeg International                        8.4851      0.407     20.830      0.000       7.687       9.284\n",
       "State_Alberta                                             5.5611      0.394     14.129      0.000       4.790       6.333\n",
       "State_British Columbia                                    1.8491      0.407      4.539      0.000       1.051       2.648\n",
       "State_California                                         -3.7223      0.406     -9.159      0.000      -4.519      -2.926\n",
       "State_Colorado                                           -4.1081      0.428     -9.589      0.000      -4.948      -3.268\n",
       "State_Florida                                             3.0854      0.428      7.202      0.000       2.246       3.925\n",
       "State_Georgia                                            -1.3173      0.428     -3.080      0.002      -2.156      -0.479\n",
       "State_Hawaii                                             10.1582      0.428     23.712      0.000       9.318      10.998\n",
       "State_Illinois                                            4.3861      0.428     10.238      0.000       3.546       5.226\n",
       "State_Manitoba                                            8.4851      0.407     20.830      0.000       7.687       9.284\n",
       "State_Massachusetts                                       0.1965      0.428      0.459      0.647      -0.643       1.036\n",
       "State_Michigan                                           -8.4395      0.428    -19.700      0.000      -9.279      -7.600\n",
       "State_Nevada                                            -13.0468      0.428    -30.454      0.000     -13.887     -12.207\n",
       "State_New Jersey                                         11.5509      0.428     26.963      0.000      10.711      12.391\n",
       "State_New South Wales                                    -7.5984      0.263    -28.926      0.000      -8.113      -7.083\n",
       "State_New York                                           -1.5689      0.406     -3.860      0.000      -2.366      -0.772\n",
       "State_North Carolina                                      5.5317      0.428     12.912      0.000       4.692       6.372\n",
       "State_Nova Scotia                                        -8.1550      0.414    -19.707      0.000      -8.966      -7.344\n",
       "State_Ontario                                             0.2797      0.386      0.725      0.469      -0.477       1.036\n",
       "State_Quebec                                              4.6851      0.386     12.123      0.000       3.928       5.443\n",
       "State_Santiago Province                                  -8.9370      0.272    -32.833      0.000      -9.471      -8.403\n",
       "State_Texas                                               5.4766      0.428     12.807      0.000       4.638       6.315\n",
       "State_Virginia                                           -4.1867      0.428     -9.773      0.000      -5.026      -3.347\n",
       "State_Washington                                         -0.1656      0.428     -0.387      0.699      -1.005       0.674\n",
       "Country_Australia                                        -7.5984      0.263    -28.926      0.000      -8.113      -7.083\n",
       "Country_Canada                                           12.7051      0.222     57.119      0.000      12.269      13.141\n",
       "Country_Chile                                            -8.9370      0.272    -32.833      0.000      -9.471      -8.403\n",
       "Country_United States of America                          3.8303      0.222     17.291      0.000       3.396       4.264\n",
       "==============================================================================\n",
       "Omnibus:                     1609.451   Durbin-Watson:                   1.881\n",
       "Prob(Omnibus):                  0.000   Jarque-Bera (JB):             7940.572\n",
       "Skew:                          -0.986   Prob(JB):                         0.00\n",
       "Kurtosis:                       7.733   Cond. No.                     1.63e+20\n",
       "==============================================================================\n",
       "\n",
       "Notes:\n",
       "[1] Standard Errors assume that the covariance matrix of the errors is correctly specified.\n",
       "[2] The smallest eigenvalue is 1.11e-30. This might indicate that there are\n",
       "strong multicollinearity problems or that the design matrix is singular.\n",
       "\"\"\""
      ]
     },
     "execution_count": 55,
     "metadata": {},
     "output_type": "execute_result"
    }
   ],
   "source": [
    "model.summary()"
   ]
  },
  {
   "cell_type": "code",
   "execution_count": 124,
   "id": "404639ec",
   "metadata": {},
   "outputs": [],
   "source": [
    "import pandas as pd\n",
    "import statsmodels.api as sm\n",
    "from sklearn.linear_model import LogisticRegression\n",
    "from sklearn.metrics import confusion_matrix, classification_report\n",
    "from sklearn.model_selection import cross_val_score, KFold\n",
    "from sklearn.ensemble import RandomForestRegressor"
   ]
  },
  {
   "cell_type": "code",
   "execution_count": 113,
   "id": "f987a5ee",
   "metadata": {},
   "outputs": [],
   "source": [
    "x2 = pd.get_dummies(df_vars.drop([\"State\",\"PercentOfBaseline\"],axis=1))"
   ]
  },
  {
   "cell_type": "code",
   "execution_count": 114,
   "id": "9ee6484d",
   "metadata": {},
   "outputs": [],
   "source": [
    "y2 = df_vars[\"PercentOfBaseline\"] > 50"
   ]
  },
  {
   "cell_type": "code",
   "execution_count": 119,
   "id": "1fda3327",
   "metadata": {},
   "outputs": [],
   "source": [
    "#x2.columns"
   ]
  },
  {
   "cell_type": "code",
   "execution_count": 116,
   "id": "f173c51c",
   "metadata": {
    "scrolled": true
   },
   "outputs": [
    {
     "data": {
      "text/plain": [
       "LogisticRegression(max_iter=100000)"
      ]
     },
     "execution_count": 116,
     "metadata": {},
     "output_type": "execute_result"
    }
   ],
   "source": [
    "logit = LogisticRegression(max_iter=100000)\n",
    "logit.fit(x2,y2)"
   ]
  },
  {
   "cell_type": "code",
   "execution_count": 117,
   "id": "2767252a",
   "metadata": {},
   "outputs": [
    {
     "name": "stdout",
     "output_type": "stream",
     "text": [
      "              precision    recall  f1-score   support\n",
      "\n",
      "       False       0.74      0.58      0.65      1608\n",
      "        True       0.89      0.94      0.91      5639\n",
      "\n",
      "    accuracy                           0.86      7247\n",
      "   macro avg       0.81      0.76      0.78      7247\n",
      "weighted avg       0.85      0.86      0.85      7247\n",
      "\n"
     ]
    }
   ],
   "source": [
    "pred = logit.predict(x2)\n",
    "print(classification_report(y2,pred))"
   ]
  },
  {
   "cell_type": "code",
   "execution_count": 123,
   "id": "76e1a31d",
   "metadata": {},
   "outputs": [
    {
     "data": {
      "text/plain": [
       "array([0.87044702, 0.85637417, 0.84720497])"
      ]
     },
     "execution_count": 123,
     "metadata": {},
     "output_type": "execute_result"
    }
   ],
   "source": [
    "cross_val_score(logit,x2,y2, cv=KFold(3, shuffle=True))"
   ]
  },
  {
   "cell_type": "code",
   "execution_count": 125,
   "id": "12ac0659",
   "metadata": {},
   "outputs": [
    {
     "data": {
      "text/plain": [
       "RandomForestRegressor()"
      ]
     },
     "execution_count": 125,
     "metadata": {},
     "output_type": "execute_result"
    }
   ],
   "source": [
    "rf = RandomForestRegressor()\n",
    "rf.fit(x,y)"
   ]
  },
  {
   "cell_type": "code",
   "execution_count": 126,
   "id": "23890bb1",
   "metadata": {},
   "outputs": [
    {
     "data": {
      "text/plain": [
       "array([0.81095366, 0.78724665, 0.78946104])"
      ]
     },
     "execution_count": 126,
     "metadata": {},
     "output_type": "execute_result"
    }
   ],
   "source": [
    "cross_val_score(rf,x,y,cv=KFold(3,shuffle=True))"
   ]
  },
  {
   "cell_type": "code",
   "execution_count": 51,
   "id": "b1fdd52b",
   "metadata": {},
   "outputs": [],
   "source": [
    "import pandas as pd\n",
    "import numpy as np\n",
    "from scipy.stats import norm\n",
    "from scipy import stats"
   ]
  },
  {
   "cell_type": "code",
   "execution_count": 52,
   "id": "03d2c6f0",
   "metadata": {},
   "outputs": [
    {
     "data": {
      "text/plain": [
       "<AxesSubplot:>"
      ]
     },
     "execution_count": 52,
     "metadata": {},
     "output_type": "execute_result"
    },
    {
     "data": {
      "image/png": "[encoded data removed]",
      "text/plain": [
       "<Figure size 432x288 with 1 Axes>"
      ]
     },
     "metadata": {
      "needs_background": "light"
     },
     "output_type": "display_data"
    }
   ],
   "source": [
    "df['PercentOfBaseline'].hist()"
   ]
  },
  {
   "cell_type": "code",
   "execution_count": 57,
   "id": "4e535e69",
   "metadata": {},
   "outputs": [
    {
     "data": {
      "text/plain": [
       "Ttest_1sampResult(statistic=25.5815307592835, pvalue=2.9027726004146484e-138)"
      ]
     },
     "execution_count": 57,
     "metadata": {},
     "output_type": "execute_result"
    }
   ],
   "source": [
    "stats.ttest_1samp(df['PercentOfBaseline'], 60)"
   ]
  },
  {
   "cell_type": "code",
   "execution_count": 58,
   "id": "a64efa00",
   "metadata": {},
   "outputs": [],
   "source": [
    "import pandas as pd\n",
    "import numpy as np\n",
    "from scipy import stats\n",
    "from scipy.stats import ttest_ind"
   ]
  },
  {
   "cell_type": "code",
   "execution_count": null,
   "id": "6b49c3ef",
   "metadata": {},
   "outputs": [],
   "source": []
  }
 ],
 "metadata": {
  "kernelspec": {
   "display_name": "Python 3",
   "language": "python",
   "name": "python3"
  },
  "language_info": {
   "codemirror_mode": {
    "name": "ipython",
    "version": 3
   },
   "file_extension": ".py",
   "mimetype": "text/x-python",
   "name": "python",
   "nbconvert_exporter": "python",
   "pygments_lexer": "ipython3",
   "version": "3.8.8"
  }
 },
 "nbformat": 4,
 "nbformat_minor": 5
}
